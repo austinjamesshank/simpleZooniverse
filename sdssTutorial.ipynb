{
 "cells": [
  {
   "cell_type": "markdown",
   "metadata": {
    "id": "trJijl6HRfmG"
   },
   "source": [
    "# Building a Sample for Citizen Science with Galaxy Zoo\n",
    "\n",
    "The SDSS records colors, redshifts, magnitudes, and more for millions of objects in the sky.  You might wonder what a sample selected in a particular way (e.g., by color) \"looks like\".  For instance, are blue galaxies characterized by a particular shape?  \n",
    "\n",
    "In this activity, we will walk through the basic steps required to select a sample of galaxies from the SDSS database, save their images to your SciDrive, and upload them into your own unique citizen science project on [Zooniverse](http://zooniverse.org).  We will then build a basic project to enable your friends and family to help contribute to answering a science question of your choosing.\n",
    "\n"
   ]
  },
  {
   "cell_type": "markdown",
   "metadata": {
    "id": "AItpzHuHRfmI"
   },
   "source": [
    "## I. Importing SciServer and other important libraries\n",
    "The SciServer team has written a number of libraries, generally prefixed with \"SciServer\", that assist in various functions. As with all Python libraries, they must be actively imported before being used.\n",
    "The next code block imports those, together with some standard Python libraries helpful for scientific analysis. The code block below applies some settings you may find helpful."
   ]
  },
  {
   "cell_type": "code",
   "execution_count": null,
   "metadata": {
    "colab": {
     "base_uri": "https://localhost:8080/"
    },
    "id": "nbsv6FkoTyzx",
    "outputId": "d630fe2d-5bb5-4a83-d02d-6b93a6d36d09"
   },
   "outputs": [],
   "source": [
    "# Steps to mount Drive to Google Colab\n",
    "# 1. Run this script\n",
    "# 2. Click the link in the output of the script.\n",
    "# 3. Sign in with the appropriate Google account.\n",
    "# 4. Copy the code from the new page and go back to this page.\n",
    "# 5. Enter the code in the box and press ENTER\n",
    "# 6. Wait for the cell to output \"Mounted at /content/drive\"\n",
    "\n",
    "from google.colab import drive\n",
    "drive.mount('/content/drive', force_remount=True)"
   ]
  },
  {
   "cell_type": "code",
   "execution_count": null,
   "metadata": {
    "colab": {
     "base_uri": "https://localhost:8080/"
    },
    "id": "l-ESxcqlRfmI",
    "outputId": "63f7db21-efb6-4b8b-b922-d2e341c736e3"
   },
   "outputs": [],
   "source": [
    "# If you have NOT changed the name of the package file \n",
    "# and it is in your main Google Drive directory, leave \n",
    "# this path alone. Otherwise, update this path accordingly.\n",
    "drivePath = 'simpleZooniverse'\n",
    "\n",
    "# Go to the appropriate folder for execution.\n",
    "!python3 --version\n",
    "!cd /content/drive/MyDrive/$drivePath; pwd; pip3 install -r requirements.txt > /dev/null"
   ]
  },
  {
   "cell_type": "code",
   "execution_count": null,
   "metadata": {
    "colab": {
     "base_uri": "https://localhost:8080/"
    },
    "id": "X4OjLbfCRfmK",
    "outputId": "591a24bb-948f-4b61-eb8b-ddd9266ec7ca"
   },
   "outputs": [],
   "source": [
    "# Import other libraries for use in this notebook.\n",
    "import os  \n",
    "import sys\n",
    "import time\n",
    "import numpy as np                  # standard Python lib for math ops\n",
    "from imageio import imsave       # save images as files\n",
    "import pandas                       # data manipulation package\n",
    "import matplotlib.pyplot as plt     # another graphing package\n",
    "import glob\n",
    "from astropy.table import Table\n",
    "print('Supporting libraries imported')\n",
    "\n",
    "# Apply some special settings to the imported libraries\n",
    "# ensure columns get written completely in notebook\n",
    "pandas.set_option('display.max_colwidth', -1)\n",
    "# do *not* show python warnings \n",
    "import warnings\n",
    "warnings.filterwarnings('ignore')\n",
    "print('Settings applied')"
   ]
  },
  {
   "cell_type": "code",
   "execution_count": null,
   "metadata": {
    "colab": {
     "base_uri": "https://localhost:8080/"
    },
    "id": "tBtXPge3RfmK",
    "outputId": "bfca0856-65e3-43ba-a4a3-3bbba1678d01"
   },
   "outputs": [],
   "source": [
    "# Import Python libraries to work with SciServer\n",
    "if not '/content/drive/MyDrive/{}/'.format(drivePath) in sys.path:\n",
    "    sys.path.insert(1, '/content/drive/MyDrive/{}/'.format(drivePath))\n",
    "if not '/content/drive/MyDrive/{}/SciServer'.format(drivePath) in sys.path:\n",
    "    sys.path.insert(1, '/content/drive/MyDrive/{}/SciServer'.format(drivePath))\n",
    "if not '/content/drive/MyDrive/{}/zooniversePackage'.format(drivePath) in sys.path:   \n",
    "    sys.path.insert(1, '/content/drive/MyDrive/{}/zooniversePackage'.format(drivePath))\n",
    "print(sys.path)\n",
    "import CasJobs\n",
    "import SkyServer\n",
    "import SciDrive # query with CasJobs\n",
    "print('SciServer libraries imported')"
   ]
  },
  {
   "cell_type": "markdown",
   "metadata": {
    "id": "8Qd9STonRfmL"
   },
   "source": [
    "## II. Querying an astronomy database (SDSS DR16)\n",
    "The next code block searches the SDSS Data Release 16 database via the CasJobs REST API. The query completes quickly, so it uses CasJobs quick mode.\n",
    "CasJobs also has an asynchronous mode, which will submit job to a queue and will store the results in a table in your MyDB. If your results are very large, it will store the results in MyScratchDB instead.\n",
    "Run the code block below to query DR16. Try changing some of the query parameters in step to see the effect on the results returned.\n",
    "Documentation on the SciServer Python libraries can be found at our documentation site at:\n",
    "http://www.sciserver.org/docs\n",
    "make example with batch query mode.\n",
    "\n",
    "An extensive tutorial on how to query the SDSS database can be found here:\n",
    "http://skyserver.sdss.org/dr16/en/help/howto/search/searchhowtohome.aspx"
   ]
  },
  {
   "cell_type": "code",
   "execution_count": null,
   "metadata": {
    "colab": {
     "base_uri": "https://localhost:8080/",
     "height": 576
    },
    "id": "4ooAyywoRfmL",
    "outputId": "a13f188d-5c4c-4ec3-ffcd-22a91229d74c"
   },
   "outputs": [],
   "source": [
    "# Find objects in the Sloan Digital Sky Survey's Data Release 16.\n",
    "#\n",
    "# Query the Sloan Digital Sky Serveys' Data Release 16.\n",
    "# For the database schema and documentation see http://skyserver.sdss.org/dr16\n",
    "#\n",
    "# This query finds \"a 4x4 grid of nice-looking galaxies\": \n",
    "#   galaxies in the SDSS database that have a spectrum \n",
    "#   and have a size (petror90_r) larger than 10 arcsec.\n",
    "# \n",
    "# First, store the query in an object called \"query\"\n",
    "query=\"\"\"\n",
    "SELECT TOP 16 p.objId,p.ra,p.dec,p.petror90_r, p.g, p.r\n",
    "  FROM galaxy AS p\n",
    "   JOIN SpecObj AS s ON s.bestobjid = p.objid\n",
    "WHERE p.u BETWEEN 0 AND 19.6\n",
    "  AND p.g BETWEEN 0 AND 17  AND p.petror90_r > 10\n",
    "\"\"\"\n",
    "gals = CasJobs.executeQuery(query, \"dr16\")\n",
    "gals = gals.set_index('objId')\n",
    "gals"
   ]
  },
  {
   "cell_type": "markdown",
   "metadata": {
    "id": "k8OToN-WRfmL"
   },
   "source": [
    "#### EXPERIMENT:  What happens if you change the query?\n",
    "\n",
    "Try changing the query in the following ways: \n",
    "- Return 24 matching objects insetad of 16.\n",
    "- Select only nearby galaxies (redshift < 0.05).\n",
    "- Select only galaxies likely to be spirals (with u-r color >= 2.22)\n",
    "- Search for galaxies in SDSS Data Release 14 instead of DR16.\n",
    "\n",
    "What changes do you notice in the table of returned results?\n",
    "\n",
    "Try it in the code block below:"
   ]
  },
  {
   "cell_type": "code",
   "execution_count": null,
   "metadata": {
    "colab": {
     "base_uri": "https://localhost:8080/",
     "height": 824
    },
    "id": "mXFlSlvMRfmM",
    "outputId": "0b6c5045-b3c4-4a71-8692-e467d9bb2c6b"
   },
   "outputs": [],
   "source": [
    "# Find objects in the Sloan Digital Sky Survey's Data Release 14.\n",
    "# First, store the query in an object called \"query\"\n",
    "query=\"\"\"\n",
    "SELECT TOP 24 p.objId,p.ra,p.dec,p.petror90_r, p.g, p.r\n",
    "  FROM galaxy AS p\n",
    "   JOIN SpecObj AS s ON s.bestobjid = p.objid\n",
    "WHERE p.u BETWEEN 0 AND 19.6\n",
    "  AND p.g BETWEEN 0 AND 17\n",
    "  AND p.petror90_r > 10\n",
    "  AND s.z <0.05\n",
    "  AND p.u-p.r>=2.2\n",
    "\"\"\"\n",
    "gals = CasJobs.executeQuery(query, \"dr14\")\n",
    "gals = gals.set_index('objId')\n",
    "gals"
   ]
  },
  {
   "cell_type": "markdown",
   "metadata": {
    "id": "rp_Dp_6NRfmO"
   },
   "source": [
    "# IV. Store results in your container for later use\n",
    "The next code block saves the data table \"gals\" as an HD5 file and as a CSV file.\n",
    "\n",
    "To see these files, go back to your iPython notebook dashboard (the page from which you opened this notebook). Make sure you are in the persistent folder. You should see your files there. Click on the file names to preview.\n"
   ]
  },
  {
   "cell_type": "code",
   "execution_count": null,
   "metadata": {
    "colab": {
     "base_uri": "https://localhost:8080/"
    },
    "id": "ZOsW60ygRfmO",
    "outputId": "242a8af3-f6b7-4b04-c292-4bf30837d4a4"
   },
   "outputs": [],
   "source": [
    "# store result as HDF5 file \n",
    "h5store = pandas.HDFStore('GalaxyThumbSample.h5')\n",
    "h5store['galaxies']=gals\n",
    "h5store.close()\n",
    "\n",
    "# store result as CSV file\n",
    "gals.to_csv('GalaxyThumbSample.csv')\n",
    "\n",
    "print (\"Done.\")"
   ]
  },
  {
   "cell_type": "markdown",
   "metadata": {
    "id": "d1bPRb1ERfmO"
   },
   "source": [
    "\n",
    "# V. Retrieve thumbnail cutouts of galaxies and show them on screen\n",
    "SkyServer has a service that will produce a color image cutout of certain dimensions around a specified position, displayed as a JPG thumbnail.\n",
    "\n",
    "The code below iterates through each galaxy in your results and calls the image cutout generator for each galaxy. The scale of the image depends on the Petrosian radius of the galaxy."
   ]
  },
  {
   "cell_type": "code",
   "execution_count": null,
   "metadata": {
    "colab": {
     "base_uri": "https://localhost:8080/",
     "height": 1000
    },
    "id": "nSGWFgZrRfmP",
    "outputId": "e8797a00-a791-4bbb-c14c-2bec9bbe09ca"
   },
   "outputs": [],
   "source": [
    "# set thumbnail parameters\n",
    "width=200           # image width\n",
    "height=200          # height\n",
    "pixelsize=0.396     # image scale\n",
    "plt.figure(figsize=(15, 15))   # display in a 4x4 grid\n",
    "subPlotNum = 1\n",
    "\n",
    "i = 0\n",
    "nGalaxies = len(gals)\n",
    "for index,gal in gals.iterrows():           # iterate through rows in the DataFrame\n",
    "    i = i + 1\n",
    "    print('Getting image '+str(i)+' of '+str(nGalaxies)+'...')\n",
    "    if (i == nGalaxies):\n",
    "        print('Plotting images...')\n",
    "    scale=2*gal['petror90_r']/pixelsize/width\n",
    "    img = SkyServer.getJpegImgCutout(ra=gal['ra'], dec=gal['dec'], width=width, height=height, scale=scale,dataRelease='DR16')\n",
    "    \n",
    "    # Preview the first 16 with this command\n",
    "    if i < 17:\n",
    "        plt.subplot(4,4,subPlotNum)\n",
    "    \n",
    "    ## Preview the full sample of the galaxies by un-commenting the following command:\n",
    "    #plt.subplot(int(len(gals)/4)+1,4,subPlotNum)\n",
    "    \n",
    "    subPlotNum += 1\n",
    "    plt.imshow(img)                               # show images in grid\n",
    "    plt.title(index)                            # show the object identifier (objId) above the image.\n",
    "\n",
    "plt.show()"
   ]
  },
  {
   "cell_type": "markdown",
   "metadata": {
    "id": "rZDIzdfSRfmP"
   },
   "source": [
    "# VI. Write thumbnails to Google Drive\n",
    "\n",
    "The three code blocks below work together to write the thumbnails you generated in step 6 into your Google Drive."
   ]
  },
  {
   "cell_type": "code",
   "execution_count": null,
   "metadata": {
    "colab": {
     "base_uri": "https://localhost:8080/"
    },
    "id": "G99FsGrLRfmP",
    "outputId": "2079628d-3306-4175-85c5-dbdce4e6d9e6"
   },
   "outputs": [],
   "source": [
    "# Step 7b: Specify the directory in your Google Drive to hold the thumbnail images\n",
    "mydir = '/content/drive/MyDrive/{}/subjectFolder/sdssSubjects'.format(drivePath)\n",
    "\n",
    "# Makes a new local directory if there is no local directory named 'subjects'\n",
    "if not os.path.isdir(mydir):\n",
    "    os.mkdir(mydir)\n",
    "else:\n",
    "    for f in glob.glob(mydir+'/*'):\n",
    "        os.remove(f)  \n",
    "\n",
    "# set thumbnail parameters\n",
    "width=200           # image width\n",
    "height=200          # height\n",
    "pixelsize=0.396     # image scale\n",
    "        \n",
    "# make a name for your \"manifest\" -- the table that matches your images to known information about the galaxies\n",
    "fout = open(mydir+'/galaxy_manifest.csv', 'w')\n",
    "fout.write(\"index, image, ra, dec \\n\")\n",
    "\n",
    "# Write thumbnails to Google Drive. You will see a confirmation message when each is written\n",
    "i = 0\n",
    "puburls=[]\n",
    "localArray = []\n",
    "for index,gal in gals.iterrows():   \n",
    "    i = i + 1\n",
    "    print('Writing image file '+str(i)+' of '+str(len(gals))+'...')\n",
    "    scale=2*gal['petror90_r']/pixelsize/width\n",
    "    img = SkyServer.getJpegImgCutout(ra=gal['ra'], dec=gal['dec'], width=width, height=height, scale=scale,dataRelease='DR14')\n",
    "    localname = str(index)+'.jpg'\n",
    "    localpath = mydir+'/'+str(index)+'.jpg'\n",
    "    # Here the file is saved to Google Drive \n",
    "    imsave(localpath,img)\n",
    "    localArray.append(localpath)\n",
    "    fout.write('{}, {}.jpg, {}, {}\\n'.format(index,index,gal['ra'],gal['dec']))\n",
    "fout.close()\n",
    "\n",
    "print('Done!')"
   ]
  },
  {
   "cell_type": "markdown",
   "metadata": {
    "id": "vw7zCjjzRfmQ"
   },
   "source": [
    "# Uploading your data to Zooniverse\n",
    "\n",
    "Your thumbnails will now be collected in your Google Drive. This should have been saved in the same Google Drive directory as your images.\n",
    "\n",
    "If you haven't already, you'll now need to make an account on [Zooniverse](https://www.zooniverse.org/).\n",
    "\n",
    "*blurb for zooniverse scripts"
   ]
  },
  {
   "cell_type": "code",
   "execution_count": null,
   "metadata": {
    "colab": {
     "base_uri": "https://localhost:8080/"
    },
    "id": "ecVGA59lRfmQ",
    "outputId": "893b9ad1-975e-440a-f69c-5c5541f3b9b6"
   },
   "outputs": [],
   "source": [
    "import getpass\n",
    "import zooniverseScripts as zooni\n",
    "\n",
    "projName = 'Simple Zooniverse SDSS Example Project for ' + user\n",
    "imgLoc = mydir+'/galaxy_manifest.csv'\n",
    "\n",
    "zooni.inputData(projectName=projName, dsLocations=imgLoc)"
   ]
  },
  {
   "cell_type": "code",
   "execution_count": null,
   "metadata": {
    "id": "lhFCz5F4RfmR"
   },
   "outputs": [],
   "source": []
  }
 ],
 "metadata": {
  "colab": {
   "collapsed_sections": [],
   "name": "tutorialScriptSDSS.ipynb",
   "provenance": [],
   "toc_visible": true
  },
  "kernelspec": {
   "display_name": "Python 3",
   "language": "python",
   "name": "python3"
  },
  "language_info": {
   "codemirror_mode": {
    "name": "ipython",
    "version": 3
   },
   "file_extension": ".py",
   "mimetype": "text/x-python",
   "name": "python",
   "nbconvert_exporter": "python",
   "pygments_lexer": "ipython3",
   "version": "3.8.5"
  }
 },
 "nbformat": 4,
 "nbformat_minor": 1
}
