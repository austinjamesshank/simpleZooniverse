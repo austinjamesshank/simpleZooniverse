{
 "cells": [
  {
   "cell_type": "markdown",
   "metadata": {},
   "source": [
    "# Basic SciServer Notebook\n",
    "\n",
    "This notebook contains the basic functionality of Simple Zooniverse and will help walk you through the creation of a project on Zooniverse using a series of pre-created images. Use this script to easily create citizen-science projects on Zooniverse.\n",
    "\n",
    "Video tutorials on this notebook and other Simple Zooniverse features can be found here: [Simple Zooniverse Playlist](https://youtube.com/playlist?list=PL6W2skmjHTC4heOIfVFbtEYI-kZi7w5nB)\n",
    "\n",
    "---"
   ]
  },
  {
   "cell_type": "markdown",
   "metadata": {},
   "source": [
    "# Step 0: Make A Zooniverse Account\n",
    "\n",
    "If you do not already have a Zooniverse account, go to [Zooniverse](https://www.zooniverse.org/) and create an account.\n",
    "\n",
    "---"
   ]
  },
  {
   "cell_type": "markdown",
   "metadata": {},
   "source": [
    "# Step 1: Installs and PATH Setup\n",
    "\n",
    "SciServer needs to know where the Simple Zooniverse libraries are being held to execute the code. The following cell takes care of installing all of the Python packages required, then directs SciServer to Simple Zooniverse and any other custom libraries you have added in the \"customLibraries\" folder."
   ]
  },
  {
   "cell_type": "code",
   "execution_count": null,
   "metadata": {},
   "outputs": [],
   "source": [
    "\n",
    "cwd = !pwd\n",
    "cwd = cwd[0]\n",
    "wd = cwd[:cwd.rfind('/')]\n",
    "print(wd)\n",
    "\n",
    "!cd {wd}/setup; pip install -r requirements.txt > /dev/null\n",
    "!pip install python-magic > /dev/null\n",
    "!cd {cwd}\n",
    "print('pip installs complete')\n",
    "\n",
    "import sys\n",
    "import glob\n",
    "\n",
    "customLibs = glob.glob(wd+'/customLibraries/*')\n",
    "for lib in customLibs:\n",
    "    if not lib in sys.path and lib[-9:] != 'SciServer':\n",
    "        print(lib)\n",
    "        sys.path.insert(1, lib)\n",
    "sys.path.insert(1, '/home/idies/miniconda3/lib/python3.8/site-packages')\n",
    "print('Set custom PATHs')\n",
    "\n",
    "print('Go to the next cell.')\n"
   ]
  },
  {
   "cell_type": "code",
   "execution_count": null,
   "metadata": {},
   "outputs": [],
   "source": [
    "\n",
    "import zooniverseScripts as zooni\n",
    "\n",
    "print('Go to the next cell.')\n"
   ]
  },
  {
   "cell_type": "markdown",
   "metadata": {
    "id": "vw7zCjjzRfmQ"
   },
   "source": [
    "# Step 2: Uploading Your Subjects to Zooniverse\n",
    "\n",
    "If you haven't already, you'll now need to make an account on [Zooniverse](https://www.zooniverse.org/).\n",
    "\n",
    "Your subject images folder must be set up in the following way:\n",
    "1. Open the \"simpleZooniverse\" folder in SciServer.\n",
    "2. Open the \"\\_subjectsFolder\" folder.\n",
    "3. Create a new folder in this location, give it a unique name, and add your subject images to this folder. DO NOT USE SPACES IN THE NAMING SCHEME AS THIS CAN CAUSE ISSUES IN LOCATING THE FOLDER.\n",
    "4. Come back to this script and continue!\n",
    "\n",
    "**Enter the name of the folder containing your subject images (and metadata file if you've included one) in between the single quotes below. You must type the name of the folder exactly as it appears in SciServer.**"
   ]
  },
  {
   "cell_type": "code",
   "execution_count": null,
   "metadata": {},
   "outputs": [],
   "source": [
    "\n",
    "subjectFolder = ''  # <---- Enter the name of your folder directly between the single quotes.\n",
    "\n",
    "print('Go to the next cell.')\n"
   ]
  },
  {
   "cell_type": "markdown",
   "metadata": {},
   "source": [
    "Let's give your Zooniverse project a great name! Enter the name of your Zooniverse project between the single quotes below."
   ]
  },
  {
   "cell_type": "code",
   "execution_count": null,
   "metadata": {},
   "outputs": [],
   "source": [
    "\n",
    "projectName = ''  # <---- Enter the name of your Zooniverse project directly between the single quotes.\n",
    "\n",
    "print('Go to the next cell.')\n"
   ]
  },
  {
   "cell_type": "markdown",
   "metadata": {},
   "source": [
    "We're ready to run the script! The next cell locates the images in SciServer and pushes them to a new project on Zooniverse!"
   ]
  },
  {
   "cell_type": "code",
   "execution_count": null,
   "metadata": {
    "colab": {
     "base_uri": "https://localhost:8080/"
    },
    "id": "ecVGA59lRfmQ",
    "outputId": "893b9ad1-975e-440a-f69c-5c5541f3b9b6"
   },
   "outputs": [],
   "source": [
    "\n",
    "imgLoc = '../_subjectsFolder/{}'.format(subjectFolder)\n",
    "zooni.run(projectName=projectName, dsLocations=imgLoc)\n",
    "\n",
    "print('Notebook completed!')\n"
   ]
  },
  {
   "cell_type": "markdown",
   "metadata": {},
   "source": [
    "You can now proceed with finishing the rest of your Zooniverse project's details. \n",
    "1. Go to https://www.zooniverse.org/\n",
    "2. Make sure you are logged into your Zooniverse account.\n",
    "3. Click on \"BUILD A PROJECT\" at the top of the page.\n",
    "4. Click the name of the project you just made.\n",
    "5. Open this tutorial in another tab and continue building your project: https://help.zooniverse.org/getting-started/#navigating-the-project-builder"
   ]
  }
 ],
 "metadata": {
  "colab": {
   "collapsed_sections": [],
   "name": "tutorialScriptSDSS.ipynb",
   "provenance": [],
   "toc_visible": true
  },
  "kernelspec": {
   "display_name": "Python 3",
   "language": "python",
   "name": "python3"
  },
  "language_info": {
   "codemirror_mode": {
    "name": "ipython",
    "version": 3
   },
   "file_extension": ".py",
   "mimetype": "text/x-python",
   "name": "python",
   "nbconvert_exporter": "python",
   "pygments_lexer": "ipython3",
   "version": "3.8.10"
  }
 },
 "nbformat": 4,
 "nbformat_minor": 4
}
