{
 "cells": [
  {
   "cell_type": "code",
   "execution_count": null,
   "metadata": {
    "colab": {
     "base_uri": "https://localhost:8080/"
    },
    "id": "nbsv6FkoTyzx",
    "outputId": "d630fe2d-5bb5-4a83-d02d-6b93a6d36d09"
   },
   "outputs": [],
   "source": [
    "# Steps to mount Drive to Google Colab\n",
    "# 1. Run this script\n",
    "# 2. Click the link in the output of the script.\n",
    "# 3. Sign in with the appropriate Google account.\n",
    "# 4. Copy the code from the new page and go back to this page.\n",
    "# 5. Enter the code in the box and press ENTER\n",
    "# 6. Wait for the cell to output \"Mounted at /content/drive\"\n",
    "\n",
    "from google.colab import drive\n",
    "drive.mount('/content/drive', force_remount=True)"
   ]
  },
  {
   "cell_type": "code",
   "execution_count": null,
   "metadata": {
    "colab": {
     "base_uri": "https://localhost:8080/"
    },
    "id": "l-ESxcqlRfmI",
    "outputId": "63f7db21-efb6-4b8b-b922-d2e341c736e3"
   },
   "outputs": [],
   "source": [
    "# If you have NOT changed the name of the package file \n",
    "# and it is in your main Google Drive directory, leave \n",
    "# this path alone. Otherwise, update this path accordingly.\n",
    "drivePath = 'simpleZooniverse'\n",
    "\n",
    "# The following lines setup the requirements and import the necessary libraries for execution.\n",
    "!python3 --version\n",
    "!cd /content/drive/MyDrive/$drivePath; pwd; pip3 install -r requirements.txt > /dev/null\n",
    "#---\n",
    "# Import other libraries for use in this notebook.\n",
    "import os  \n",
    "import sys\n",
    "import time\n",
    "import numpy as np                  # standard Python lib for math ops\n",
    "from imageio import imsave       # save images as files\n",
    "import pandas                       # data manipulation package\n",
    "import matplotlib.pyplot as plt     # another graphing package\n",
    "import glob\n",
    "from astropy.table import Table\n",
    "print('Supporting libraries imported')\n",
    "#---\n",
    "# Apply some special settings to the imported libraries\n",
    "# ensure columns get written completely in notebook\n",
    "pandas.set_option('display.max_colwidth', None)\n",
    "# do *not* show python warnings \n",
    "import warnings\n",
    "warnings.filterwarnings('ignore')\n",
    "print('Settings applied')\n",
    "#---\n",
    "if not '/content/drive/MyDrive/{}/zooniversePackage'.format(drivePath) in sys.path:   \n",
    "    sys.path.insert(1, '/content/drive/MyDrive/{}/zooniversePackage'.format(drivePath))\n",
    "print('Custom libraries imported')"
   ]
  },
  {
   "cell_type": "markdown",
   "metadata": {
    "id": "vw7zCjjzRfmQ"
   },
   "source": [
    "# Uploading your data to Zooniverse\n",
    "\n",
    "Your thumbnails will now be collected in your Google Drive. This should have been saved in the same Google Drive directory as your images.\n",
    "\n",
    "If you haven't already, you'll now need to make an account on [Zooniverse](https://www.zooniverse.org/).\n",
    "\n",
    "*blurb for zooniverse scripts"
   ]
  },
  {
   "cell_type": "code",
   "execution_count": null,
   "metadata": {},
   "outputs": [],
   "source": [
    "# Enter the path to your image folder.\n",
    "# Ex. if your images are in a folder named \"Images\" in your Google Drive, put: folder = 'Images'\n",
    "# Ex. if your images are nested in the path \"zooniverse/Images\", put: folder = 'zooniverse/Images'\n",
    "folder = 'subjectFolder'\n",
    "\n",
    "# ---\n",
    "imgLoc = '/content/drive/MyDrive/{}'.format(folder)"
   ]
  },
  {
   "cell_type": "code",
   "execution_count": null,
   "metadata": {
    "colab": {
     "base_uri": "https://localhost:8080/"
    },
    "id": "ecVGA59lRfmQ",
    "outputId": "893b9ad1-975e-440a-f69c-5c5541f3b9b6"
   },
   "outputs": [],
   "source": [
    "import getpass\n",
    "import zooniverseScripts as zooni\n",
    "\n",
    "print('Enter your Zooniverse username and password')\n",
    "\n",
    "username = input('Username: ')\n",
    "password = getpass.getpass('Password: ')\n",
    "\n",
    "projectName = 'Zooniverse Tutorial Project today for  '+ username\n",
    "imgLoc = mydir\n",
    "\n",
    "zooni.run(username, password, projectName, imgLoc, tutorial=True)"
   ]
  },
  {
   "cell_type": "code",
   "execution_count": null,
   "metadata": {
    "id": "lhFCz5F4RfmR"
   },
   "outputs": [],
   "source": []
  }
 ],
 "metadata": {
  "colab": {
   "collapsed_sections": [],
   "name": "tutorialScriptSDSS.ipynb",
   "provenance": [],
   "toc_visible": true
  },
  "kernelspec": {
   "display_name": "Python 3",
   "language": "python",
   "name": "python3"
  },
  "language_info": {
   "codemirror_mode": {
    "name": "ipython",
    "version": 3
   },
   "file_extension": ".py",
   "mimetype": "text/x-python",
   "name": "python",
   "nbconvert_exporter": "python",
   "pygments_lexer": "ipython3",
   "version": "3.8.5"
  }
 },
 "nbformat": 4,
 "nbformat_minor": 1
}
