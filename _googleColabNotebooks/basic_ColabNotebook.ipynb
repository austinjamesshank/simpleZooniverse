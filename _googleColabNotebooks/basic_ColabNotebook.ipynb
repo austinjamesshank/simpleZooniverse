{
 "cells": [
  {
   "cell_type": "markdown",
   "metadata": {},
   "source": [
    "# Basic Colab Notebook\n",
    "\n",
    "This notebook contains the basic functionality of Simple Zooniverse and will help walk you through the creation of a project on Zooniverse using a series of pre-created images. Use this script to easily create citizen-science projects on Zooniverse.\n",
    "\n",
    "Video tutorials on this notebook and other Simple Zooniverse features can be found here: [Simple Zooniverse Playlist](https://youtube.com/playlist?list=PL6W2skmjHTC4heOIfVFbtEYI-kZi7w5nB)\n",
    "\n",
    "---"
   ]
  },
  {
   "cell_type": "markdown",
   "metadata": {},
   "source": [
    "# Step 1: Mounting Google Drive to Google Colab\n",
    "\n",
    "Before Google Colab can access your Google Drive files, you'll need to mount your Drive to Colab. This is analgous to plugging in a USB thumb drive to your computer in order to access the files contained on it, so once mounted you will be able to use any files on your personal drive in this notebook.\n",
    "\n",
    "1. Run the cell below.\n",
    "2. Click the link in the output of the script.\n",
    "3. Sign in with the appropriate Google account.\n",
    "4. Copy the code from the new page and go back to this page.\n",
    "5. Enter the code in the box and press ENTER\n",
    "6. Wait for the cell to output \"Mounted at /content/drive\""
   ]
  },
  {
   "cell_type": "code",
   "execution_count": null,
   "metadata": {
    "colab": {
     "base_uri": "https://localhost:8080/"
    },
    "id": "nbsv6FkoTyzx",
    "outputId": "d630fe2d-5bb5-4a83-d02d-6b93a6d36d09",
    "scrolled": true
   },
   "outputs": [],
   "source": [
    "\n",
    "from google.colab import drive\n",
    "drive.mount('/content/drive', force_remount=True)\n"
   ]
  },
  {
   "cell_type": "markdown",
   "metadata": {},
   "source": [
    "# Step 2: Installs and PATH Setup\n",
    "\n",
    "Colab needs to know where the Simple Zooniverse libraries are being held in your Drive to execute the code. The following cell takes care of installing all of the Python packages required, then directs Colab to Simple Zooniverse and any other custom libraries you have added in the \"customLibraries\" folder."
   ]
  },
  {
   "cell_type": "code",
   "execution_count": null,
   "metadata": {
    "colab": {
     "base_uri": "https://localhost:8080/"
    },
    "id": "l-ESxcqlRfmI",
    "outputId": "63f7db21-efb6-4b8b-b922-d2e341c736e3"
   },
   "outputs": [],
   "source": [
    "\n",
    "!cd /content/drive/MyDrive/simpleZooniverse/setup; pip3 install -r requirements.txt > /dev/null; \n",
    "!apt-get install libmagic-dev > /dev/null\n",
    "!pip install python-magic > /dev/null\n",
    "print('pip installs complete')\n",
    "\n",
    "import sys\n",
    "import glob\n",
    "\n",
    "customLibs = glob.glob('/content/drive/MyDrive/simpleZooniverse/customLibraries/*')\n",
    "for lib in customLibs:\n",
    "    if not lib in sys.path:\n",
    "        sys.path.insert(1, lib)\n",
    "print('Set custom PATHs')\n"
   ]
  },
  {
   "cell_type": "code",
   "execution_count": null,
   "metadata": {},
   "outputs": [],
   "source": [
    "\n",
    "import zooniverseScripts as zooni\n"
   ]
  },
  {
   "cell_type": "markdown",
   "metadata": {
    "id": "vw7zCjjzRfmQ"
   },
   "source": [
    "# Step 3: Uploading Your Subjects to Zooniverse\n",
    "\n",
    "If you haven't already, you'll now need to make an account on [Zooniverse](https://www.zooniverse.org/).\n",
    "\n",
    "Your subject images folder must be set up in the following way:\n",
    "1. Open the \"simpleZooniverse\" folder in your Google Drive.\n",
    "2. Open the \"\\_subjectsFolder\" folder.\n",
    "3. Create a new folder in this location and give it a unique name. DO NOT USE SPACES IN THE NAMING SCHEME AS THIS CAN CAUSE ISSUES IN LOCATING THE FOLDER.\n",
    "4. Come back to this script and continue!\n",
    "\n",
    "**Enter the name of the folder containing your subject images (and metadata file if you've included one) in between the single quotes below. You must type the name of the folder exactly as it appears in Google Drive.**"
   ]
  },
  {
   "cell_type": "code",
   "execution_count": null,
   "metadata": {},
   "outputs": [],
   "source": [
    "\n",
    "subjectFolder = ''  # <---- Enter the name of your folder directly between the single quotes.\n"
   ]
  },
  {
   "cell_type": "markdown",
   "metadata": {},
   "source": [
    "Let's give your Zooniverse project a great name! Enter the name of your Zooniverse project between the single quotes below."
   ]
  },
  {
   "cell_type": "code",
   "execution_count": null,
   "metadata": {},
   "outputs": [],
   "source": [
    "\n",
    "projectName = ''  # <---- Enter the name of your Zooniverse project directly between the single quotes.\n"
   ]
  },
  {
   "cell_type": "markdown",
   "metadata": {},
   "source": [
    "We're ready to run the script! The next cell locates the images in your Google Drive and pushes them to a new project on Zooniverse!"
   ]
  },
  {
   "cell_type": "code",
   "execution_count": null,
   "metadata": {
    "colab": {
     "base_uri": "https://localhost:8080/"
    },
    "id": "ecVGA59lRfmQ",
    "outputId": "893b9ad1-975e-440a-f69c-5c5541f3b9b6"
   },
   "outputs": [],
   "source": [
    "\n",
    "imgLoc = '/content/drive/MyDrive/simpleZooniverse/_subjectsFolder/{}'.format(subjectFolder)\n",
    "drive.mount('/content/drive', force_remount=True)\n",
    "zooni.run(projectName=projectName, dsLocations=imgLoc)\n"
   ]
  }
 ],
 "metadata": {
  "colab": {
   "collapsed_sections": [],
   "name": "tutorialScriptSDSS.ipynb",
   "provenance": [],
   "toc_visible": true
  },
  "kernelspec": {
   "display_name": "Python 3",
   "language": "python",
   "name": "python3"
  },
  "language_info": {
   "codemirror_mode": {
    "name": "ipython",
    "version": 3
   },
   "file_extension": ".py",
   "mimetype": "text/x-python",
   "name": "python",
   "nbconvert_exporter": "python",
   "pygments_lexer": "ipython3",
   "version": "3.8.5"
  }
 },
 "nbformat": 4,
 "nbformat_minor": 1
}
